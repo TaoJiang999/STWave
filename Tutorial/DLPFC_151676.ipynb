{
 "cells": [
  {
   "cell_type": "code",
   "id": "initial_id",
   "metadata": {
    "collapsed": true,
    "ExecuteTime": {
     "end_time": "2025-10-27T10:06:21.893842Z",
     "start_time": "2025-10-27T10:05:28.652386Z"
    }
   },
   "source": [
    "import STWave\n",
    "import scanpy as sc\n",
    "\n",
    "adata = sc.read_visium(r'F:\\Data\\spatial\\Dataset\\DLPFC_\\151508')\n",
    "STWave.prefilter_genes(adata)\n",
    "# sc.pp.highly_variable_genes(adata, flavor=\"seurat_v3\", n_top_genes=3000,subset=True)\n",
    "# sc.pp.normalize_total(adata, target_sum=1e4, exclude_highly_expressed=True)\n",
    "# sc.pp.scale(adata,zero_center=True)\n",
    "# adata = adata[:, adata.var.highly_variable]\n",
    "adata = STWave.svg(adata)\n",
    "STWave.Cal_Spatial_Net(adata,rad_cutoff=150,model='Radius',verbose=True)\n",
    "STWave.Cal_Precluster_Net(adata,verbose=True)\n",
    "trainer = STWave.Trainer(adata,dim_reduction='HVG',batch_data=True,num_batch_x_y=[1,1],device='cpu')\n",
    "trainer.train(hidden_dims=[256,64],n_epochs=10)\n",
    "STWave.mclust_R(adata,used_obsm='STWave',num_cluster=5)\n",
    "print(adata)"
   ],
   "outputs": [
    {
     "name": "stdout",
     "output_type": "stream",
     "text": [
      "------Calculating spatial graph...\n",
      "Spatial graph contains 25698 edges, 4384 cells.\n",
      "5.8618 neighbors per cell on average.\n",
      "Spatial graph calculation time: 0.09 seconds\n",
      "------Calculating precluster graph...\n",
      "Precluster spatial graph contains 20292 edges, 4384 cells.\n",
      "4.6286 neighbors per cell on average.\n",
      "Precluster graph calculation time: 6.45 seconds\n",
      "check PyG Data object device：\n",
      "\n",
      "x: shape=(4384, 3000), device=cpu, dtype=torch.float32\n",
      "edge_index: shape=(2, 54758), device=cpu, dtype=torch.int64\n",
      "edge_type: shape=(54758,), device=cpu, dtype=torch.int64\n",
      "------calculating batch indices...\n"
     ]
    },
    {
     "name": "stderr",
     "output_type": "stream",
     "text": [
      "100%|██████████| 1/1 [00:00<?, ?it/s]\n"
     ]
    },
    {
     "name": "stdout",
     "output_type": "stream",
     "text": [
      "------sampling subgraphs...\n"
     ]
    },
    {
     "name": "stderr",
     "output_type": "stream",
     "text": [
      "100%|██████████| 1/1 [00:00<00:00, 45.20it/s]"
     ]
    },
    {
     "name": "stdout",
     "output_type": "stream",
     "text": [
      "using wavelet: db4\n",
      "deconposing levels: 3\n",
      "------training batch...\n"
     ]
    },
    {
     "name": "stderr",
     "output_type": "stream",
     "text": [
      "\n",
      "100%|██████████| 10/10 [00:24<00:00,  2.45s/it, _1loss=2.87, _2loss_recon=0.0659, _3loss_wave=0.14] \n"
     ]
    },
    {
     "name": "stdout",
     "output_type": "stream",
     "text": [
      "------inferencing...\n"
     ]
    },
    {
     "name": "stderr",
     "output_type": "stream",
     "text": [
      "100%|██████████| 1/1 [00:00<00:00,  1.22it/s]\n"
     ]
    },
    {
     "name": "stdout",
     "output_type": "stream",
     "text": [
      "------saving embeddings...\n",
      "------saving reconstrction...\n"
     ]
    },
    {
     "name": "stderr",
     "output_type": "stream",
     "text": [
      "WARNING:rpy2.rinterface_lib.callbacks:R[write to console]:                    __           __ \n",
      "   ____ ___  _____/ /_  _______/ /_\n",
      "  / __ `__ \\/ ___/ / / / / ___/ __/\n",
      " / / / / / / /__/ / /_/ (__  ) /_  \n",
      "/_/ /_/ /_/\\___/_/\\__,_/____/\\__/   version 6.1.1\n",
      "Type 'citation(\"mclust\")' for citing this R package in publications.\n",
      "\n"
     ]
    },
    {
     "name": "stdout",
     "output_type": "stream",
     "text": [
      "fitting ...\n",
      "  |======================================================================| 100%\n",
      "AnnData object with n_obs × n_vars = 4384 × 3000\n",
      "    obs: 'in_tissue', 'array_row', 'array_col', 'mclust'\n",
      "    var: 'gene_ids', 'feature_types', 'genome', 'highly_variable', 'highly_variable_rank', 'means', 'variances', 'variances_norm'\n",
      "    uns: 'spatial', 'hvg', 'log1p', 'Spatial_Net', 'Precluster_Net'\n",
      "    obsm: 'spatial', 'STWave', 'STWave_ReX', 'emb_pca'\n"
     ]
    }
   ],
   "execution_count": 1
  },
  {
   "metadata": {},
   "cell_type": "code",
   "outputs": [],
   "execution_count": null,
   "source": "",
   "id": "795ef675de648445"
  }
 ],
 "metadata": {
  "kernelspec": {
   "display_name": "Python 3",
   "language": "python",
   "name": "python3"
  },
  "language_info": {
   "codemirror_mode": {
    "name": "ipython",
    "version": 2
   },
   "file_extension": ".py",
   "mimetype": "text/x-python",
   "name": "python",
   "nbconvert_exporter": "python",
   "pygments_lexer": "ipython2",
   "version": "2.7.6"
  }
 },
 "nbformat": 4,
 "nbformat_minor": 5
}
